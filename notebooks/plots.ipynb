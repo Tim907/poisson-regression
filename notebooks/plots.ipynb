{
 "cells": [
  {
   "cell_type": "code",
   "execution_count": 8,
   "outputs": [],
   "source": [
    "from efficient_probit_regression import settings\n",
    "from efficient_probit_regression.datasets import BaseDataset, Covertype, KDDCup, Webspam, Synthetic\n",
    "\n",
    "from scipy.stats import median_abs_deviation\n",
    "\n",
    "import matplotlib.pyplot as plt\n",
    "import matplotlib\n",
    "\n",
    "import pandas as pd\n",
    "import numpy as np\n",
    "\n",
    "import seaborn as sns"
   ],
   "metadata": {
    "collapsed": false,
    "ExecuteTime": {
     "end_time": "2024-04-16T19:44:04.950980Z",
     "start_time": "2024-04-16T19:44:04.932032400Z"
    }
   }
  },
  {
   "cell_type": "code",
   "execution_count": 3,
   "source": [
    "if not settings.PLOTS_DIR.exists():\n",
    "    settings.PLOTS_DIR.mkdir()"
   ],
   "outputs": [],
   "metadata": {
    "ExecuteTime": {
     "end_time": "2024-04-16T19:41:41.753251700Z",
     "start_time": "2024-04-16T19:41:41.734300600Z"
    }
   }
  },
  {
   "cell_type": "code",
   "execution_count": 4,
   "source": [
    "def get_results_df(dataset: BaseDataset, p, methods):\n",
    "    df_list = []\n",
    "    \n",
    "    for method in methods:\n",
    "        df = (\n",
    "            pd.read_csv(settings.get_results_dir_p(p) / (dataset.get_name() + f\"_{method}_p_{p}.csv\"))\n",
    "            .filter(items=[\"ratio\", \"size\", \"total_time_s\"])\n",
    "            .groupby([\"size\"], as_index=False)\n",
    "            .agg(\n",
    "                median_ratio = pd.NamedAgg(column=\"ratio\", aggfunc=\"median\"), \n",
    "                std  = pd.NamedAgg(column=\"ratio\", aggfunc=\"std\"),\n",
    "                mad  = pd.NamedAgg(column=\"ratio\", aggfunc=median_abs_deviation),\n",
    "                q75  = pd.NamedAgg(column=\"ratio\", aggfunc=lambda x: np.quantile(x, q=0.75)),\n",
    "                q25  = pd.NamedAgg(column=\"ratio\", aggfunc=lambda x: np.quantile(x, q=0.25)),\n",
    "                median_total_time_s = pd.NamedAgg(column=\"total_time_s\", aggfunc=\"median\"), \n",
    "            )\n",
    "            .assign(method=method)\n",
    "        )\n",
    "        df_list.append(df)\n",
    "\n",
    "    return(pd.concat(df_list, ignore_index=True))"
   ],
   "outputs": [],
   "metadata": {
    "ExecuteTime": {
     "end_time": "2024-04-16T19:41:44.871794600Z",
     "start_time": "2024-04-16T19:41:44.853845100Z"
    }
   }
  },
  {
   "cell_type": "code",
   "execution_count": 31,
   "source": [
    "def make_ratio_plot(dataset, p, methods, x_min, x_max, y_min, y_max, plot_bands=True, font_size=15, font_size_title=23):\n",
    "    results_df = get_results_df(dataset, p, methods)\n",
    "\n",
    "    # use TeX for typesetting\n",
    "    plt.rcParams[\"text.usetex\"] = True\n",
    "    plt.rc(\"font\", size=font_size)\n",
    "\n",
    "    fig, ax = plt.subplots()\n",
    "\n",
    "    colormap = matplotlib.cm.get_cmap(name=\"tab20\")\n",
    "    colors = {\n",
    "        \"uniform\": colormap(0),\n",
    "        \"logit\": colormap(2),\n",
    "        \"lewis\": colormap(4),\n",
    "        \"lewis-fast\": colormap(4),\n",
    "        \"leverage\": colormap(6),\n",
    "        \"leverage_online\": colormap(8),\n",
    "    }\n",
    "\n",
    "    labels = {\n",
    "        \"uniform\": \"uniform\",\n",
    "        \"logit\": \"root l2\",\n",
    "        \"lewis\": \"Lewis\",\n",
    "        \"lewis-fast\": \"lewis l1\",\n",
    "        \"leverage\": f\"{p}-probit\",\n",
    "        \"leverage_online\": f\"online l2\",\n",
    "    }\n",
    "\n",
    "    titles = {\n",
    "        \"covertype\": f\"Covertype, p={p}\",\n",
    "        \"kddcup\": f\"Kddcup, p={p}\",\n",
    "        \"webspam\": f\"Webspam, p={p}\",\n",
    "        f\"synthetic_n100000_d10_p{p}_variant1_seed1\": f\"Synthetic I, p={p}\",\n",
    "        f\"synthetic_n100000_d10_p{p}_variant2_seed1\": f\"Synthetic II, p={p}\",\n",
    "    }\n",
    "\n",
    "    for cur_method in methods:\n",
    "        cur_results = results_df.loc[results_df[\"method\"] == cur_method]\n",
    "        ax.plot(\n",
    "            cur_results[\"size\"], \n",
    "            cur_results[\"median_ratio\"],\n",
    "            color=colors[cur_method],\n",
    "            label=labels[cur_method],\n",
    "        )\n",
    "        if plot_bands:\n",
    "            ax.fill_between(\n",
    "                cur_results[\"size\"],\n",
    "                (cur_results[\"q25\"] - cur_results[\"median_ratio\"]) * 0.7413 + cur_results[\"median_ratio\"],\n",
    "                (cur_results[\"q75\"] - cur_results[\"median_ratio\"]) * 0.7413 + cur_results[\"median_ratio\"],\n",
    "                # cur_results[\"q25\"],\n",
    "                # cur_results[\"q75\"],\n",
    "                color=colors[cur_method],\n",
    "                alpha=0.3\n",
    "            )\n",
    "\n",
    "    ax.set_xlim(left=x_min, right=x_max)\n",
    "    ax.set_ylim(bottom=y_min, top=y_max)\n",
    "\n",
    "    ax.set_xlabel(\"reduced size\")\n",
    "    ax.set_ylabel(\"median approximation ratio\")\n",
    "\n",
    "    ax.set_title(titles[dataset.get_name()], fontsize=font_size_title)\n",
    "\n",
    "    legend = ax.legend(loc=\"upper right\", frameon=True)\n",
    "\n",
    "    fig.tight_layout()\n",
    "\n",
    "    plt.savefig(settings.PLOTS_DIR / f\"{dataset.get_name()}_ratio_plot_p_{p}.pdf\")\n",
    "\n",
    "    plt.show()"
   ],
   "outputs": [],
   "metadata": {
    "ExecuteTime": {
     "end_time": "2024-04-16T20:49:06.068186800Z",
     "start_time": "2024-04-16T20:49:06.044012500Z"
    }
   }
  },
  {
   "cell_type": "code",
   "execution_count": 11,
   "source": [
    "def make_runtime_plot(dataset, p, methods, x_min, x_max, y_min, y_max, draw_line=False, font_size=15, font_size_title=23):\n",
    "    results_df = get_results_df(dataset, p, methods)\n",
    "\n",
    "    # use TeX for typesetting\n",
    "    plt.rcParams[\"text.usetex\"] = True\n",
    "    plt.rc(\"font\", size=font_size)\n",
    "\n",
    "    fig, ax = plt.subplots()\n",
    "\n",
    "    colormap = matplotlib.cm.get_cmap(name=\"tab20\")\n",
    "    colors = {\n",
    "        \"uniform\": colormap(0),\n",
    "        \"logit\": colormap(2),\n",
    "        \"lewis\": colormap(4),\n",
    "        \"lewis-fast\": colormap(4),\n",
    "        \"leverage\": colormap(6),\n",
    "        \"leverage_online\": colormap(8),\n",
    "    }\n",
    "\n",
    "    labels = {\n",
    "        \"uniform\": \"uniform\",\n",
    "        \"logit\": \"root l2\",\n",
    "        \"lewis\": \"Lewis\",\n",
    "        \"lewis-fast\": \"lewis l1\",\n",
    "        \"leverage\": f\"{p}-probit\",\n",
    "        \"leverage_online\": f\"online l2\",\n",
    "    }\n",
    "\n",
    "    titles = {\n",
    "        \"covertype\": f\"Covertype, p={p}\",\n",
    "        \"kddcup\": f\"Kddcup, p={p}\",\n",
    "        \"webspam\": f\"Webspam, p={p}\",\n",
    "    }\n",
    "\n",
    "    for cur_method in methods:\n",
    "        cur_results = results_df.loc[results_df[\"method\"] == cur_method]\n",
    "\n",
    "        if not draw_line:\n",
    "            ax.scatter(\n",
    "                cur_results[\"median_total_time_s\"],\n",
    "                cur_results[\"median_ratio\"], \n",
    "                color=colors[cur_method],\n",
    "                label=labels[cur_method],\n",
    "            )\n",
    "        else:\n",
    "            cur_results = cur_results.sort_values(by=\"median_total_time_s\")\n",
    "            ax.plot(\n",
    "                cur_results[\"median_total_time_s\"],\n",
    "                cur_results[\"median_ratio\"], \n",
    "                color=colors[cur_method],\n",
    "                label=labels[cur_method],\n",
    "            )\n",
    "\n",
    "    ax.set_xlim(left=x_min, right=x_max)\n",
    "    ax.set_ylim(bottom=y_min, top=y_max)\n",
    "\n",
    "    ax.set_ylabel(\"median approximation ratio\")\n",
    "    ax.set_xlabel(\"median running time (s)\")\n",
    "\n",
    "    ax.set_title(titles[dataset.get_name()], fontsize=font_size_title)\n",
    "\n",
    "    legend = ax.legend(loc=\"upper right\", frameon=True)\n",
    "\n",
    "    fig.tight_layout()\n",
    "\n",
    "    add_line_str = \"\"\n",
    "    if draw_line:\n",
    "        add_line_str = \"_line\"\n",
    "\n",
    "    plt.savefig(settings.PLOTS_DIR / f\"{dataset.get_name()}_runtime_plot_p_{p}.pdf\")\n",
    "\n",
    "    plt.show()\n",
    "\n",
    "# make_runtime_plot(Covertype(), p=1, methods=[\"uniform\", \"logit\", \"lewis\", \"leverage\"], x_min=0, x_max=None, y_min=1, y_max=1.04, draw_line=True)"
   ],
   "outputs": [],
   "metadata": {
    "ExecuteTime": {
     "end_time": "2024-04-16T19:46:25.536910500Z",
     "start_time": "2024-04-16T19:46:25.519957900Z"
    }
   }
  },
  {
   "cell_type": "code",
   "execution_count": null,
   "source": [
    "make_runtime_plot(Covertype(), p=1, methods=[\"uniform\", \"logit\", \"lewis-fast\", \"leverage\"], x_min=0, x_max=None, y_min=1, y_max=1.04, draw_line=False)\n",
    "make_runtime_plot(KDDCup(), p=1, methods=[\"uniform\", \"logit\", \"lewis-fast\", \"leverage\"], x_min=0, x_max=None, y_min=1, y_max=1.3, draw_line=False)\n",
    "make_runtime_plot(Webspam(), p=1, methods=[\"uniform\", \"logit\", \"lewis-fast\", \"leverage\"], x_min=0, x_max=None, y_min=1, y_max=1.15, draw_line=False)\n",
    "\n",
    "make_runtime_plot(Covertype(), p=1.5, methods=[\"uniform\", \"leverage\"], x_min=0, x_max=None, y_min=1, y_max=1.04, draw_line=False)\n",
    "make_runtime_plot(KDDCup(), p=1.5, methods=[\"uniform\", \"leverage\"], x_min=0, x_max=None, y_min=0.95, y_max=10, draw_line=False)\n",
    "make_runtime_plot(Webspam(), p=1.5, methods=[\"uniform\", \"leverage\"], x_min=0, x_max=None, y_min=0.95, y_max=2, draw_line=False)\n",
    "\n",
    "make_runtime_plot(Covertype(), p=2, methods=[\"uniform\", \"leverage\"], x_min=0, x_max=None, y_min=1, y_max=1.10, draw_line=False)\n",
    "make_runtime_plot(KDDCup(), p=2, methods=[\"uniform\", \"leverage\"], x_min=0, x_max=None, y_min=0.95, y_max=2, draw_line=False)\n",
    "make_runtime_plot(Webspam(), p=2, methods=[\"uniform\", \"leverage\"], x_min=0, x_max=None, y_min=0.95, y_max=2.5, draw_line=False)\n",
    "\n",
    "make_runtime_plot(Covertype(), p=3, methods=[\"uniform\", \"leverage\"], x_min=0, x_max=None, y_min=0.95, y_max=1.2, draw_line=False)\n",
    "make_runtime_plot(KDDCup(), p=3, methods=[\"uniform\", \"leverage\"], x_min=0, x_max=None, y_min=0.95, y_max=10000, draw_line=False)\n",
    "make_runtime_plot(Webspam(), p=3, methods=[\"uniform\", \"leverage\"], x_min=0, x_max=None, y_min=0.9, y_max=20, draw_line=False)\n",
    "\n",
    "make_runtime_plot(Covertype(), p=5, methods=[\"uniform\", \"leverage\"], x_min=0, x_max=None, y_min=0.95, y_max=3, draw_line=False)\n",
    "make_runtime_plot(KDDCup(), p=5, methods=[\"uniform\", \"leverage\"], x_min=0, x_max=None, y_min=0.95, y_max=1000000000, draw_line=False)\n",
    "make_runtime_plot(Webspam(), p=5, methods=[\"uniform\", \"leverage\"], x_min=0, x_max=None, y_min=0.95, y_max=100000, draw_line=False)"
   ],
   "outputs": [],
   "metadata": {}
  },
  {
   "cell_type": "code",
   "execution_count": null,
   "source": [
    "make_ratio_plot(Covertype(), p=1, methods=[\"uniform\", \"logit\", \"lewis-fast\", \"leverage\"], x_min=0, x_max=15000, y_min=1, y_max=1.04)\n",
    "make_ratio_plot(KDDCup(), p=1, methods=[\"uniform\", \"logit\", \"lewis-fast\", \"leverage\"], x_min=0, x_max=30000, y_min=1, y_max=2.5)\n",
    "make_ratio_plot(Webspam(), p=1, methods=[\"uniform\", \"logit\", \"lewis-fast\", \"leverage\"], x_min=0, x_max=15000, y_min=1, y_max=1.15)\n",
    "\n",
    "make_ratio_plot(Covertype(), p=1.5, methods=[\"uniform\", \"leverage\"], x_min=0, x_max=15000, y_min=1, y_max=1.04)\n",
    "make_ratio_plot(KDDCup(), p=1.5, methods=[\"uniform\", \"leverage\"], x_min=0, x_max=30000, y_min=1, y_max=10)\n",
    "make_ratio_plot(Webspam(), p=1.5, methods=[\"uniform\", \"leverage\"], x_min=0, x_max=15000, y_min=1, y_max=2)\n",
    "\n",
    "make_ratio_plot(Covertype(), p=2, methods=[\"uniform\", \"leverage\", \"leverage_online\"], x_min=0, x_max=15000, y_min=1, y_max=1.10)\n",
    "make_ratio_plot(KDDCup(), p=2, methods=[\"uniform\", \"leverage\", \"leverage_online\"], x_min=0, x_max=30000, y_min=1, y_max=3)\n",
    "make_ratio_plot(Webspam(), p=2, methods=[\"uniform\", \"leverage\", \"leverage_online\"], x_min=0, x_max=15000, y_min=1, y_max=2.5)\n",
    "\n",
    "make_ratio_plot(Covertype(), p=3, methods=[\"uniform\", \"leverage\"], x_min=0, x_max=15000, y_min=1, y_max=1.2)\n",
    "make_ratio_plot(KDDCup(), p=3, methods=[\"uniform\", \"leverage\"], x_min=0, x_max=30000, y_min=1, y_max=50)\n",
    "make_ratio_plot(Webspam(), p=3, methods=[\"uniform\", \"leverage\"], x_min=0, x_max=15000, y_min=1, y_max=10)\n",
    "\n",
    "make_ratio_plot(Covertype(), p=5, methods=[\"uniform\", \"leverage\"], x_min=0, x_max=15000, y_min=1, y_max=4)\n",
    "make_ratio_plot(KDDCup(), p=5, methods=[\"uniform\", \"leverage\"], x_min=0, x_max=30000, y_min=1, y_max=1000000000)\n",
    "make_ratio_plot(Webspam(), p=5, methods=[\"uniform\", \"leverage\"], x_min=0, x_max=15000, y_min=1, y_max=100000)"
   ],
   "outputs": [],
   "metadata": {}
  },
  {
   "cell_type": "code",
   "execution_count": 36,
   "outputs": [
    {
     "name": "stderr",
     "output_type": "stream",
     "text": [
      "C:\\Users\\Traitor\\AppData\\Local\\Temp\\ipykernel_6508\\4238114480.py:10: MatplotlibDeprecationWarning: The get_cmap function was deprecated in Matplotlib 3.7 and will be removed two minor releases later. Use ``matplotlib.colormaps[name]`` or ``matplotlib.colormaps.get_cmap(obj)`` instead.\n",
      "  colormap = matplotlib.cm.get_cmap(name=\"tab20\")\n"
     ]
    },
    {
     "data": {
      "text/plain": "<Figure size 640x480 with 1 Axes>",
      "image/png": "[encoded data removed]"
     },
     "metadata": {},
     "output_type": "display_data"
    }
   ],
   "source": [
    "#make_ratio_plot(Synthetic(n=100000, d=10, p=1, variant=1, seed=1), p=1, methods=[\"leverage\"], x_min=15000, x_max=40000, y_min=1, y_max=1.0005)\n",
    "#make_ratio_plot(Synthetic(n=100000, d=10, p=2, variant=1, seed=1), p=2, methods=[\"leverage\"], x_min=15000, x_max=40000, y_min=1, y_max=1.001)\n",
    "make_ratio_plot(Synthetic(n=100000, d=10, p=1, variant=2, seed=1), p=1, methods=[\"leverage\"], x_min=15000, x_max=40000, y_min=1, y_max=1.00003)\n",
    "#make_ratio_plot(Synthetic(n=100000, d=10, p=2, variant=2, seed=1), p=2, methods=[\"leverage\"], x_min=15000, x_max=40000, y_min=1, y_max=1.000001)"
   ],
   "metadata": {
    "collapsed": false,
    "ExecuteTime": {
     "end_time": "2024-04-16T20:52:23.215982400Z",
     "start_time": "2024-04-16T20:52:17.056750600Z"
    }
   }
  },
  {
   "cell_type": "code",
   "execution_count": null,
   "outputs": [],
   "source": [],
   "metadata": {
    "collapsed": false
   }
  }
 ],
 "metadata": {
  "orig_nbformat": 4,
  "language_info": {
   "name": "python",
   "version": "3.9.5",
   "mimetype": "text/x-python",
   "codemirror_mode": {
    "name": "ipython",
    "version": 3
   },
   "pygments_lexer": "ipython3",
   "nbconvert_exporter": "python",
   "file_extension": ".py"
  },
  "kernelspec": {
   "name": "python3",
   "language": "python",
   "display_name": "Python 3 (ipykernel)"
  },
  "interpreter": {
   "hash": "d3307380142bd0d9ee15157aa1da5ccdecd2dcad986e3fbaeb540e49b07ab888"
  }
 },
 "nbformat": 4,
 "nbformat_minor": 2
}
